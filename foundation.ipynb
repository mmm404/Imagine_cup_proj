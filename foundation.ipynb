{
  "nbformat": 4,
  "nbformat_minor": 0,
  "metadata": {
    "colab": {
      "provenance": [],
      "authorship_tag": "ABX9TyME/fPxi0gXw7xGeIdEo6lJ",
      "include_colab_link": true
    },
    "kernelspec": {
      "name": "python3",
      "display_name": "Python 3"
    },
    "language_info": {
      "name": "python"
    }
  },
  "cells": [
    {
      "cell_type": "markdown",
      "metadata": {
        "id": "view-in-github",
        "colab_type": "text"
      },
      "source": [
        "<a href=\"https://colab.research.google.com/github/mmm404/Imagine_cup_proj/blob/proximity_detection/foundation.ipynb\" target=\"_parent\"><img src=\"https://colab.research.google.com/assets/colab-badge.svg\" alt=\"Open In Colab\"/></a>"
      ]
    },
    {
      "cell_type": "code",
      "execution_count": 1,
      "metadata": {
        "colab": {
          "base_uri": "https://localhost:8080/",
          "height": 383
        },
        "id": "2qEq4-3hzKYf",
        "outputId": "1804185e-c6e3-457c-ca92-f79ff1bdb36f"
      },
      "outputs": [
        {
          "output_type": "error",
          "ename": "ModuleNotFoundError",
          "evalue": "ignored",
          "traceback": [
            "\u001b[0;31m---------------------------------------------------------------------------\u001b[0m",
            "\u001b[0;31mModuleNotFoundError\u001b[0m                       Traceback (most recent call last)",
            "\u001b[0;32m<ipython-input-1-28614d46491a>\u001b[0m in \u001b[0;36m<cell line: 2>\u001b[0;34m()\u001b[0m\n\u001b[1;32m      1\u001b[0m \u001b[0;32mimport\u001b[0m \u001b[0mcv2\u001b[0m\u001b[0;34m\u001b[0m\u001b[0;34m\u001b[0m\u001b[0m\n\u001b[0;32m----> 2\u001b[0;31m \u001b[0;32mimport\u001b[0m \u001b[0mmediapipe\u001b[0m \u001b[0;32mas\u001b[0m \u001b[0mmp\u001b[0m\u001b[0;34m\u001b[0m\u001b[0;34m\u001b[0m\u001b[0m\n\u001b[0m\u001b[1;32m      3\u001b[0m \u001b[0;32mimport\u001b[0m \u001b[0mtime\u001b[0m\u001b[0;34m\u001b[0m\u001b[0;34m\u001b[0m\u001b[0m\n\u001b[1;32m      4\u001b[0m \u001b[0mcapture\u001b[0m \u001b[0;34m=\u001b[0m \u001b[0mcv2\u001b[0m\u001b[0;34m.\u001b[0m\u001b[0mVideoCapture\u001b[0m\u001b[0;34m(\u001b[0m\u001b[0;36m0\u001b[0m\u001b[0;34m)\u001b[0m\u001b[0;34m\u001b[0m\u001b[0;34m\u001b[0m\u001b[0m\n\u001b[1;32m      5\u001b[0m \u001b[0mmpHands\u001b[0m \u001b[0;34m=\u001b[0m \u001b[0mmp\u001b[0m\u001b[0;34m.\u001b[0m\u001b[0msolutions\u001b[0m\u001b[0;34m.\u001b[0m\u001b[0mhands\u001b[0m\u001b[0;34m\u001b[0m\u001b[0;34m\u001b[0m\u001b[0m\n",
            "\u001b[0;31mModuleNotFoundError\u001b[0m: No module named 'mediapipe'",
            "",
            "\u001b[0;31m---------------------------------------------------------------------------\u001b[0;32m\nNOTE: If your import is failing due to a missing package, you can\nmanually install dependencies using either !pip or !apt.\n\nTo view examples of installing some common dependencies, click the\n\"Open Examples\" button below.\n\u001b[0;31m---------------------------------------------------------------------------\u001b[0m\n"
          ],
          "errorDetails": {
            "actions": [
              {
                "action": "open_url",
                "actionText": "Open Examples",
                "url": "/notebooks/snippets/importing_libraries.ipynb"
              }
            ]
          }
        }
      ],
      "source": [
        "import cv2\n",
        "import mediapipe as mp\n",
        "import time\n",
        "capture = cv2.VideoCapture(0)\n",
        "mpHands = mp.solutions.hands\n",
        "mpDraw = mp.solutions.drawing_utils\n",
        "hands = mpHands.Hands()\n",
        "\n",
        "while True:\n",
        "    success, img  = capture.read()\n",
        "    imgRGB = cv2.cvtColor(img, cv2.COLOR_BGR2RGB)\n",
        "    results = hands.process(imgRGB)\n",
        "    #print(results.multi_hand_landmarks)\n",
        "    if results.multi_hand_landmarks:\n",
        "        for handLMK in results.multi_hand_landmarks:\n",
        "            print(handLMK)\n",
        "            mpDraw.draw_landmarks(img, handLMK,mpHands.HAND_CONNECTIONS)\n",
        "\n",
        "    cv2.imshow('hand tracker', img)\n",
        "    cv2.waitKey(1)"
      ]
    },
    {
      "cell_type": "code",
      "source": [
        "import cv2\n",
        "import mediapipe as mp\n",
        "import time\n",
        "\n",
        "\n",
        "capture = cv2.VideoCapture(0)\n",
        "mpHands = mp.solutions.hands\n",
        "mpDraw = mp.solutions.drawing_utils\n",
        "hands = mpHands.Hands()\n",
        "\n",
        "\n",
        "while True:\n",
        "    success, img  = capture.read()\n",
        "    imgRGB = cv2.cvtColor(img, cv2.COLOR_BGR2RGB)\n",
        "    results = hands.process(imgRGB)\n",
        "    #print(results.multi_hand_landmarks)\n",
        "    if results.multi_hand_landmarks:\n",
        "        for handLMK in results.multi_hand_landmarks:\n",
        "            print(handLMK)\n",
        "            mpDraw.draw_landmarks(img, handLMK,mpHands.HAND_CONNECTIONS)\n",
        "\n",
        "    cv2.imshow('hand tracker', img)\n",
        "    cv2.waitKey(1)\n",
        "\n",
        "\n",
        "def capture_standard_portrait():\n",
        "    # Load the pre-trained face detection model from OpenCV\n",
        "    face_cascade = cv2.CascadeClassifier(cv2.data.haarcascades + 'haarcascade_frontalface_default.xml')\n",
        "\n",
        "    # Start capturing video from the webcam\n",
        "    cap = cv2.VideoCapture(0)\n",
        "\n",
        "    while True:\n",
        "        ret, frame = cap.read()\n",
        "\n",
        "        if not ret:\n",
        "            break\n",
        "\n",
        "        # Convert the frame to grayscale for face detection\n",
        "        gray = cv2.cvtColor(frame, cv2.COLOR_BGR2GRAY)\n",
        "\n",
        "        # Detect faces in the frame\n",
        "        faces = face_cascade.detectMultiScale(gray, scaleFactor=1.1, minNeighbors=5, minSize=(30, 30))\n",
        "\n",
        "        for (x, y, w, h) in faces:\n",
        "            # Draw a rectangle around the detected face\n",
        "            cv2.rectangle(frame, (x, y), (x + w, y + h), (0, 255, 0), 2)\n",
        "\n",
        "            # Check if the face is positioned correctly\n",
        "            if y > 150:  # Adjust this threshold as needed\n",
        "                feedback = \"Adjust your position: Raise your head, shoulders, and chest.\"\n",
        "                cv2.putText(frame, feedback, (10, 30), cv2.FONT_HERSHEY_SIMPLEX, 1, (0, 0, 255), 2)\n",
        "\n",
        "        # Display the frame\n",
        "        cv2.imshow('Capture Standard Portrait', frame)\n",
        "\n",
        "        # Exit loop if 'q' is pressed\n",
        "        if cv2.waitKey(1) & 0xFF == ord('q'):\n",
        "            break\n",
        "\n",
        "    # Release the capture and close the window\n",
        "    cap.release()\n",
        "    cv2.destroyAllWindows()\n",
        "\n",
        "# Call the function to capture the standard portrait\n",
        "capture_standard_portrait()\n"
      ],
      "metadata": {
        "id": "I1-SCbD6AXWH"
      },
      "execution_count": null,
      "outputs": []
    }
  ]
}